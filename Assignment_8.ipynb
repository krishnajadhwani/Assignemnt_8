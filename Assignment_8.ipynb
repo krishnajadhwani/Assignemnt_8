{
 "cells": [
  {
   "cell_type": "markdown",
   "id": "620376f8-0be0-46ee-b30a-9fa35a9d2ce0",
   "metadata": {},
   "source": [
    "Q1. You are writing code for a company. The requirement of the company is that you create a python\n",
    "function that will check whether the password entered by the user is correct or not. The function should\n",
    "take the password as input and return the string “Valid Password” if the entered password follows the\n",
    "below-given password guidelines else it should return “Invalid Password”."
   ]
  },
  {
   "cell_type": "code",
   "execution_count": 4,
   "id": "d888b0d4-5583-4bbf-92ef-94cdedae4392",
   "metadata": {},
   "outputs": [
    {
     "name": "stdin",
     "output_type": "stream",
     "text": [
      "Enter the password:  Singapur@123\n"
     ]
    },
    {
     "name": "stdout",
     "output_type": "stream",
     "text": [
      "Valid Password\n"
     ]
    }
   ],
   "source": [
    "def is_valid_password(password):\n",
    "    # Check password length (should be between 8 and 16 characters)\n",
    "    if len(password) < 8 or len(password) > 16:\n",
    "        return \"Invalid Password: Password length should be between 8 and 16 characters.\"\n",
    "\n",
    "    # Check if the password contains at least one uppercase letter\n",
    "    if not any(char.isupper() for char in password):\n",
    "        return \"Invalid Password: Password should contain at least one uppercase letter.\"\n",
    "\n",
    "    # Check if the password contains at least one lowercase letter\n",
    "    if not any(char.islower() for char in password):\n",
    "        return \"Invalid Password: Password should contain at least one lowercase letter.\"\n",
    "\n",
    "    # Check if the password contains at least one digit\n",
    "    if not any(char.isdigit() for char in password):\n",
    "        return \"Invalid Password: Password should contain at least one digit.\"\n",
    "\n",
    "    # Check if the password contains at least one special character\n",
    "    special_chars = set(\"!@#$%^&*()_-+=<>?/,.:;{}[]|\")\n",
    "    if not any(char in special_chars for char in password):\n",
    "        return \"Invalid Password: Password should contain at least one special character (!@#$%^&*()_-+=<>?/,.:;{}[]|).\"\n",
    "\n",
    "    return \"Valid Password\"\n",
    "\n",
    "# Test the function\n",
    "user_password = input(\"Enter the password: \")\n",
    "result = is_valid_password(user_password)\n",
    "print(result)\n",
    "\n",
    "\n",
    "\n",
    "\n",
    "\n",
    "\n"
   ]
  },
  {
   "cell_type": "markdown",
   "id": "b7426922-6197-48ea-8aca-02ef3f9c171a",
   "metadata": {},
   "source": [
    "Q2. Solve the below-given questions using at least one of the following:\n",
    "1. Lambda functioJ\n",
    "2. Filter functioJ\n",
    "3. Zap functioJ\n",
    "4. List ComprehensioI\n",
    "\n",
    "\n",
    "\n",
    "B Check if the string starts with a particular letterY\n",
    "B Check if the string is numericY\n",
    "B Sort a list of tuples having fruit names and their quantity. [(\"mango\",99),(\"orange\",80), (\"grapes\", 1000)-\n",
    "B Find the squares of numbers from 1 to 10Y\n",
    "B Find the cube root of numbers from 1 to 10Y\n",
    "B Check if a given number is evenY\n",
    "B Filter odd numbers from the given list.\n",
    "[1,2,3,4,5,6,7,8,9,10-\n",
    "B Sort a list of integers into positive and negative integers lists.\n",
    "[1,2,3,4,5,6,-1,-2,-3,-4,-5,0]"
   ]
  },
  {
   "cell_type": "markdown",
   "id": "b465f989-502c-4b44-b37d-6b9858bec576",
   "metadata": {},
   "source": [
    "Using Lamba Function fpr 1.Check if the string starts with a particular letter."
   ]
  },
  {
   "cell_type": "code",
   "execution_count": 6,
   "id": "ebed2e92-e835-4cdb-9132-1c9bc329f680",
   "metadata": {},
   "outputs": [
    {
     "name": "stdin",
     "output_type": "stream",
     "text": [
      "Enter a string:  Krishna is good in python\n",
      "Enter the letter to check:  k\n"
     ]
    },
    {
     "name": "stdout",
     "output_type": "stream",
     "text": [
      "The string does not start with the letter 'k'.\n"
     ]
    }
   ],
   "source": [
    "starts_with_letter = lambda s, letter: s.startswith(letter)\n",
    "\n",
    "# Test the lambda function\n",
    "input_string = input(\"Enter a string: \")\n",
    "letter_to_check = input(\"Enter the letter to check: \")\n",
    "\n",
    "if starts_with_letter(input_string, letter_to_check):\n",
    "    print(f\"The string starts with the letter '{letter_to_check}'.\")\n",
    "else:\n",
    "    print(f\"The string does not start with the letter '{letter_to_check}'.\")"
   ]
  },
  {
   "cell_type": "markdown",
   "id": "a86fffb2-bd2e-4bc2-b16b-c867b6107a6b",
   "metadata": {},
   "source": [
    "Using Fliter Function. Check if the string is numeric?"
   ]
  },
  {
   "cell_type": "code",
   "execution_count": 7,
   "id": "29f31cf8-daae-418c-8854-78fa9fd15867",
   "metadata": {},
   "outputs": [
    {
     "name": "stdin",
     "output_type": "stream",
     "text": [
      "Enter a string:  123456\n"
     ]
    },
    {
     "name": "stdout",
     "output_type": "stream",
     "text": [
      "The string is numeric.\n"
     ]
    }
   ],
   "source": [
    "def is_numeric(s):\n",
    "    numeric_chars = filter(lambda char: char.isdigit(), s)\n",
    "    return len(s) == len(list(numeric_chars))\n",
    "\n",
    "# Test the function\n",
    "input_string = input(\"Enter a string: \")\n",
    "\n",
    "if is_numeric(input_string):\n",
    "    print(\"The string is numeric.\")\n",
    "else:\n",
    "    print(\"The string is not numeric.\")\n",
    "    "
   ]
  },
  {
   "cell_type": "markdown",
   "id": "b68917a1-888e-46a0-afae-b9a610e0b2f5",
   "metadata": {},
   "source": [
    "Using Map Function Sort a list of tuples having fruit names and their quantity. [(\"mango\",99),(\"orange\",80), (\"grapes\", 1000)?"
   ]
  },
  {
   "cell_type": "code",
   "execution_count": 8,
   "id": "225a254b-d2f7-42a0-9796-578a73ffdc1d",
   "metadata": {},
   "outputs": [
    {
     "name": "stdout",
     "output_type": "stream",
     "text": [
      "Sorted list of fruits based on quantity:\n",
      "[('orange', 80), ('mango', 99), ('grapes', 1000)]\n"
     ]
    }
   ],
   "source": [
    "fruits = [(\"mango\", 99), (\"orange\", 80), (\"grapes\", 1000)]\n",
    "\n",
    "sorted_fruits = sorted(fruits, key=lambda x: x[1])\n",
    "\n",
    "print(\"Sorted list of fruits based on quantity:\")\n",
    "print(sorted_fruits)"
   ]
  },
  {
   "cell_type": "markdown",
   "id": "365f6db1-ea6a-4c97-a898-317453655f2e",
   "metadata": {},
   "source": [
    "USing lamba Function .Find the squares of numbers from 1 to 10"
   ]
  },
  {
   "cell_type": "code",
   "execution_count": 9,
   "id": "ce2ba964-dacb-4494-91be-ef6e748991e4",
   "metadata": {},
   "outputs": [
    {
     "name": "stdout",
     "output_type": "stream",
     "text": [
      "Squares of numbers from 1 to 10:\n",
      "[1, 4, 9, 16, 25, 36, 49, 64, 81, 100]\n"
     ]
    }
   ],
   "source": [
    "numbers = range(1, 11)\n",
    "\n",
    "squares = list(map(lambda x: x**2, numbers))\n",
    "\n",
    "print(\"Squares of numbers from 1 to 10:\")\n",
    "print(squares)"
   ]
  },
  {
   "cell_type": "markdown",
   "id": "7ca16516-d54b-4e05-9d63-a07f6dc4356d",
   "metadata": {},
   "source": [
    "Using Lamba Function. Find the cube root of numbers from 1 to 10"
   ]
  },
  {
   "cell_type": "markdown",
   "id": "8a20b525-7205-42f6-8be4-5863606509cf",
   "metadata": {},
   "source": [
    "import math\n",
    "\n",
    "numbers = range(1, 11)\n",
    "\n",
    "cube_roots = list(map(lambda x: math.pow(x, 1/3), numbers))\n",
    "\n",
    "print(\"Cube roots of numbers from 1 to 10:\")\n",
    "print(cube_roots)"
   ]
  },
  {
   "cell_type": "markdown",
   "id": "3a6f30f2-2771-4469-9e64-c4f9725d27d5",
   "metadata": {},
   "source": [
    "USing List comprehension function .Check if a given number is even?"
   ]
  },
  {
   "cell_type": "code",
   "execution_count": 11,
   "id": "3028c0f6-3203-46e0-b584-ff61e927fae9",
   "metadata": {},
   "outputs": [
    {
     "name": "stdin",
     "output_type": "stream",
     "text": [
      "Enter a number:  4563\n"
     ]
    },
    {
     "name": "stdout",
     "output_type": "stream",
     "text": [
      "The number 4563 is even: False\n"
     ]
    }
   ],
   "source": [
    "def is_even(number):\n",
    "    return number % 2 == 0\n",
    "\n",
    "# Test the function\n",
    "num = int(input(\"Enter a number: \"))\n",
    "\n",
    "result = is_even(num)\n",
    "\n",
    "print(f\"The number {num} is even: {result}\")"
   ]
  },
  {
   "cell_type": "markdown",
   "id": "36a7b16f-949a-4518-bc6d-e632135d7ea5",
   "metadata": {},
   "source": [
    "USing Map Function Filter odd numbers from the given list.\n",
    "[1,2,3,4,5,6,7,8,9,10?"
   ]
  },
  {
   "cell_type": "code",
   "execution_count": 13,
   "id": "f9228825-049d-48bb-8bb6-ac5833f6a9cf",
   "metadata": {},
   "outputs": [
    {
     "name": "stdout",
     "output_type": "stream",
     "text": [
      "Odd numbers from the given list:\n",
      "[1, 3, 5, 7, 9]\n"
     ]
    }
   ],
   "source": [
    "numbers = [1, 2, 3, 4, 5, 6, 7, 8, 9, 10]\n",
    "\n",
    "# Filter odd numbers using the filter() function\n",
    "odd_numbers = list(filter(lambda x: x % 2 != 0, numbers))\n",
    "\n",
    "print(\"Odd numbers from the given list:\")\n",
    "print(odd_numbers)\n",
    "\n",
    "\n",
    "\n",
    "\n"
   ]
  },
  {
   "cell_type": "markdown",
   "id": "2b5b4038-6d96-4d4f-bdff-50b70e3fedd1",
   "metadata": {},
   "source": [
    "Using Fliter function Sort a list of integers into positive and negative integers lists.\n",
    "[1,2,3,4,5,6,-1,-2,-3,-4,-5,0]"
   ]
  },
  {
   "cell_type": "code",
   "execution_count": 14,
   "id": "726dceff-b529-49e6-8431-9ce0b6fac51b",
   "metadata": {},
   "outputs": [
    {
     "name": "stdout",
     "output_type": "stream",
     "text": [
      "Positive integers:\n",
      "[1, 2, 3, 4, 5, 6]\n",
      "Negative integers:\n",
      "[-1, -2, -3, -4, -5]\n"
     ]
    }
   ],
   "source": [
    "numbers = [1, 2, 3, 4, 5, 6, -1, -2, -3, -4, -5, 0]\n",
    "\n",
    "# Filter positive and negative integers using the filter() function\n",
    "positive_numbers = list(filter(lambda x: x > 0, numbers))\n",
    "negative_numbers = list(filter(lambda x: x < 0, numbers))\n",
    "\n",
    "print(\"Positive integers:\")\n",
    "print(positive_numbers)\n",
    "\n",
    "print(\"Negative integers:\")\n",
    "print(negative_numbers)"
   ]
  },
  {
   "cell_type": "code",
   "execution_count": null,
   "id": "9090b46f-e36b-4371-9970-4c0a825f7ba7",
   "metadata": {},
   "outputs": [],
   "source": []
  }
 ],
 "metadata": {
  "kernelspec": {
   "display_name": "Python 3 (ipykernel)",
   "language": "python",
   "name": "python3"
  },
  "language_info": {
   "codemirror_mode": {
    "name": "ipython",
    "version": 3
   },
   "file_extension": ".py",
   "mimetype": "text/x-python",
   "name": "python",
   "nbconvert_exporter": "python",
   "pygments_lexer": "ipython3",
   "version": "3.10.8"
  }
 },
 "nbformat": 4,
 "nbformat_minor": 5
}
